{
 "cells": [
  {
   "cell_type": "code",
   "execution_count": 1,
   "id": "4bbce44d",
   "metadata": {},
   "outputs": [],
   "source": [
    "import pandas as pd\n",
    "import matplotlib.pyplot as plt\n",
    "import ipywidgets as widgets\n",
    "from IPython.display import display"
   ]
  },
  {
   "cell_type": "code",
   "execution_count": 2,
   "id": "edbf5ce6",
   "metadata": {},
   "outputs": [],
   "source": [
    "# Вказуємо шлях до файлу (у мене в поточній директорії, тому задана просто назва)\n",
    "file_path = 'Test task product analyst_CURRENT.xlsx'"
   ]
  },
  {
   "cell_type": "code",
   "execution_count": 3,
   "id": "94b3f3d0",
   "metadata": {},
   "outputs": [],
   "source": [
    "df = pd.read_excel(file_path, sheet_name=1)"
   ]
  },
  {
   "cell_type": "code",
   "execution_count": 4,
   "id": "4acce4a4",
   "metadata": {},
   "outputs": [
    {
     "data": {
      "text/html": [
       "<div>\n",
       "<style scoped>\n",
       "    .dataframe tbody tr th:only-of-type {\n",
       "        vertical-align: middle;\n",
       "    }\n",
       "\n",
       "    .dataframe tbody tr th {\n",
       "        vertical-align: top;\n",
       "    }\n",
       "\n",
       "    .dataframe thead th {\n",
       "        text-align: right;\n",
       "    }\n",
       "</style>\n",
       "<table border=\"1\" class=\"dataframe\">\n",
       "  <thead>\n",
       "    <tr style=\"text-align: right;\">\n",
       "      <th></th>\n",
       "      <th>Країна</th>\n",
       "      <th>Дата</th>\n",
       "      <th>Продажі, дол</th>\n",
       "      <th>Вал. прибуток, дол</th>\n",
       "      <th>Накопичений вал.приб, дол</th>\n",
       "    </tr>\n",
       "  </thead>\n",
       "  <tbody>\n",
       "    <tr>\n",
       "      <th>0</th>\n",
       "      <td>США</td>\n",
       "      <td>2021-11-01</td>\n",
       "      <td>115</td>\n",
       "      <td>49.45</td>\n",
       "      <td>49.45</td>\n",
       "    </tr>\n",
       "    <tr>\n",
       "      <th>1</th>\n",
       "      <td>США</td>\n",
       "      <td>2021-11-02</td>\n",
       "      <td>149</td>\n",
       "      <td>64.07</td>\n",
       "      <td>113.52</td>\n",
       "    </tr>\n",
       "    <tr>\n",
       "      <th>2</th>\n",
       "      <td>США</td>\n",
       "      <td>2021-11-03</td>\n",
       "      <td>100</td>\n",
       "      <td>43.00</td>\n",
       "      <td>156.52</td>\n",
       "    </tr>\n",
       "    <tr>\n",
       "      <th>3</th>\n",
       "      <td>США</td>\n",
       "      <td>2021-11-04</td>\n",
       "      <td>125</td>\n",
       "      <td>53.75</td>\n",
       "      <td>210.27</td>\n",
       "    </tr>\n",
       "    <tr>\n",
       "      <th>4</th>\n",
       "      <td>США</td>\n",
       "      <td>2021-11-05</td>\n",
       "      <td>113</td>\n",
       "      <td>48.59</td>\n",
       "      <td>258.86</td>\n",
       "    </tr>\n",
       "  </tbody>\n",
       "</table>\n",
       "</div>"
      ],
      "text/plain": [
       "  Країна       Дата  Продажі, дол  Вал. прибуток, дол   \n",
       "0    США 2021-11-01           115               49.45  \\\n",
       "1    США 2021-11-02           149               64.07   \n",
       "2    США 2021-11-03           100               43.00   \n",
       "3    США 2021-11-04           125               53.75   \n",
       "4    США 2021-11-05           113               48.59   \n",
       "\n",
       "   Накопичений вал.приб, дол  \n",
       "0                      49.45  \n",
       "1                     113.52  \n",
       "2                     156.52  \n",
       "3                     210.27  \n",
       "4                     258.86  "
      ]
     },
     "execution_count": 4,
     "metadata": {},
     "output_type": "execute_result"
    }
   ],
   "source": [
    "df.head()"
   ]
  },
  {
   "cell_type": "code",
   "execution_count": 5,
   "id": "9e624158",
   "metadata": {},
   "outputs": [],
   "source": [
    "# Створюю нову колонку з датою у форматі yyyy-mm\n",
    "df['year_month'] = df['Дата'].dt.to_period('M').astype(str)"
   ]
  },
  {
   "cell_type": "code",
   "execution_count": 6,
   "id": "4b3a6102",
   "metadata": {},
   "outputs": [],
   "source": [
    "# Залишаю лише необхідні колонки\n",
    "df = df[['Країна', 'Продажі, дол','year_month']]"
   ]
  },
  {
   "cell_type": "code",
   "execution_count": 7,
   "id": "e3e91baa",
   "metadata": {},
   "outputs": [
    {
     "data": {
      "text/html": [
       "<div>\n",
       "<style scoped>\n",
       "    .dataframe tbody tr th:only-of-type {\n",
       "        vertical-align: middle;\n",
       "    }\n",
       "\n",
       "    .dataframe tbody tr th {\n",
       "        vertical-align: top;\n",
       "    }\n",
       "\n",
       "    .dataframe thead th {\n",
       "        text-align: right;\n",
       "    }\n",
       "</style>\n",
       "<table border=\"1\" class=\"dataframe\">\n",
       "  <thead>\n",
       "    <tr style=\"text-align: right;\">\n",
       "      <th></th>\n",
       "      <th>Країна</th>\n",
       "      <th>Продажі, дол</th>\n",
       "      <th>year_month</th>\n",
       "    </tr>\n",
       "  </thead>\n",
       "  <tbody>\n",
       "    <tr>\n",
       "      <th>0</th>\n",
       "      <td>США</td>\n",
       "      <td>115</td>\n",
       "      <td>2021-11</td>\n",
       "    </tr>\n",
       "    <tr>\n",
       "      <th>1</th>\n",
       "      <td>США</td>\n",
       "      <td>149</td>\n",
       "      <td>2021-11</td>\n",
       "    </tr>\n",
       "    <tr>\n",
       "      <th>2</th>\n",
       "      <td>США</td>\n",
       "      <td>100</td>\n",
       "      <td>2021-11</td>\n",
       "    </tr>\n",
       "    <tr>\n",
       "      <th>3</th>\n",
       "      <td>США</td>\n",
       "      <td>125</td>\n",
       "      <td>2021-11</td>\n",
       "    </tr>\n",
       "    <tr>\n",
       "      <th>4</th>\n",
       "      <td>США</td>\n",
       "      <td>113</td>\n",
       "      <td>2021-11</td>\n",
       "    </tr>\n",
       "  </tbody>\n",
       "</table>\n",
       "</div>"
      ],
      "text/plain": [
       "  Країна  Продажі, дол year_month\n",
       "0    США           115    2021-11\n",
       "1    США           149    2021-11\n",
       "2    США           100    2021-11\n",
       "3    США           125    2021-11\n",
       "4    США           113    2021-11"
      ]
     },
     "execution_count": 7,
     "metadata": {},
     "output_type": "execute_result"
    }
   ],
   "source": [
    "df.head()"
   ]
  },
  {
   "cell_type": "code",
   "execution_count": 8,
   "id": "b1e4d71c",
   "metadata": {},
   "outputs": [
    {
     "data": {
      "image/png": "[encoded data removed]",
      "text/plain": [
       "<Figure size 720x360 with 1 Axes>"
      ]
     },
     "metadata": {
      "needs_background": "light"
     },
     "output_type": "display_data"
    }
   ],
   "source": [
    "# bar chart без опції вибору країни\n",
    "sales_per_month = df.groupby('year_month')['Продажі, дол'].sum()\n",
    "\n",
    "plt.figure(figsize=(10,5))\n",
    "sales_per_month.plot(kind='bar', color='skyblue')\n",
    "plt.title(f'Сума продажів')\n",
    "plt.xlabel('Рік та місяць')\n",
    "plt.ylabel('Сума')\n",
    "plt.xticks(rotation=0)\n",
    "plt.grid(axis='y')\n",
    "plt.show()"
   ]
  },
  {
   "cell_type": "code",
   "execution_count": 9,
   "id": "e216bbd2",
   "metadata": {},
   "outputs": [],
   "source": [
    "# Створюю список з переліком унікальних країн, вибір всіх ставлю на перше місце\n",
    "countries = df['Країна'].unique().tolist()\n",
    "countries.insert(0, 'Всі')"
   ]
  },
  {
   "cell_type": "code",
   "execution_count": 10,
   "id": "639bca55",
   "metadata": {},
   "outputs": [],
   "source": [
    "# Оформлюю побудову bar chart у функцію з параметром country для динамічного відображення результатів\n",
    "def plot_sales(country):\n",
    "    if country == 'Всі':\n",
    "        df_filtered = df\n",
    "    else:\n",
    "        df_filtered = df[df['Країна'] == country]\n",
    "        \n",
    "    sales_per_month = df_filtered.groupby('year_month')['Продажі, дол'].sum()\n",
    "    \n",
    "    plt.figure(figsize=(10,5))\n",
    "    sales_per_month.plot(kind='bar', color='skyblue')\n",
    "    plt.title(f'Сума продажів ({country})')\n",
    "    plt.xlabel('Рік та місяць')\n",
    "    plt.ylabel('Сума')\n",
    "    plt.xticks(rotation=0)\n",
    "    plt.grid(axis='y')\n",
    "    plt.show()"
   ]
  },
  {
   "cell_type": "code",
   "execution_count": 11,
   "id": "123d57e0",
   "metadata": {},
   "outputs": [],
   "source": [
    "# Створюю випадаючий список за допомогою бібліотеки ipywidgets \n",
    "country_dropdown = widgets.Dropdown(\n",
    "    options=countries,\n",
    "    value='Всі',\n",
    "    description='Країна:',\n",
    ")"
   ]
  },
  {
   "cell_type": "code",
   "execution_count": 12,
   "id": "16e5ec68",
   "metadata": {},
   "outputs": [
    {
     "data": {
      "application/vnd.jupyter.widget-view+json": {
       "model_id": "c408105ede5e4701a62b229b80de2c85",
       "version_major": 2,
       "version_minor": 0
      },
      "text/plain": [
       "interactive(children=(Dropdown(description='Країна:', options=('Всі', 'США', 'Індія', 'Пакистан', \"В'єтнам\", '…"
      ]
     },
     "metadata": {},
     "output_type": "display_data"
    },
    {
     "data": {
      "text/plain": [
       "<function __main__.plot_sales(country)>"
      ]
     },
     "execution_count": 12,
     "metadata": {},
     "output_type": "execute_result"
    }
   ],
   "source": [
    "widgets.interact(plot_sales, country=country_dropdown)"
   ]
  },
  {
   "cell_type": "code",
   "execution_count": null,
   "id": "76c358e4",
   "metadata": {},
   "outputs": [],
   "source": []
  }
 ],
 "metadata": {
  "kernelspec": {
   "display_name": "Python 3",
   "language": "python",
   "name": "python3"
  },
  "language_info": {
   "codemirror_mode": {
    "name": "ipython",
    "version": 3
   },
   "file_extension": ".py",
   "mimetype": "text/x-python",
   "name": "python",
   "nbconvert_exporter": "python",
   "pygments_lexer": "ipython3",
   "version": "3.8.8"
  }
 },
 "nbformat": 4,
 "nbformat_minor": 5
}
